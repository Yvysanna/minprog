{
 "cells": [
  {
   "cell_type": "code",
   "execution_count": 31,
   "metadata": {},
   "outputs": [],
   "source": [
    "class Beatles:\n",
    "\n",
    "    # Initializing function to assign values to object\n",
    "    def __init__(self, name, born):\n",
    "        self.name = name\n",
    "        self.born = born\n",
    "        self._instruments = []\n",
    "\n",
    "    def add_instrument(self, instrument: str) -> True:\n",
    "        \"\"\"Adds given instrument into instrument list\"\"\"\n",
    "\n",
    "        # Checks through other function if object not already in list\n",
    "        self._instruments.append(instrument)\n",
    "        return True"
   ]
  },
  {
   "cell_type": "code",
   "execution_count": 32,
   "metadata": {},
   "outputs": [],
   "source": [
    "# Create beatles object\n",
    "\n",
    "john = Beatles(\"John\", 1940)"
   ]
  },
  {
   "cell_type": "code",
   "execution_count": 33,
   "metadata": {},
   "outputs": [
    {
     "name": "stdout",
     "output_type": "stream",
     "text": [
      "<__main__.Beatles object at 0x109a0ec20>\n"
     ]
    }
   ],
   "source": [
    "# What happens if you print?\n",
    "\n",
    "print(john)\n",
    "\n",
    "# print(john.name)\n",
    "\n",
    "\n",
    "# print(john._instruments)"
   ]
  },
  {
   "cell_type": "markdown",
   "metadata": {},
   "source": [
    "#### To fill list of instruments, what could we do?"
   ]
  },
  {
   "cell_type": "code",
   "execution_count": 27,
   "metadata": {},
   "outputs": [],
   "source": [
    "def add_instrument(self, instrument: str) -> True:\n",
    "    \"\"\"Adds given instrument into instrument list\"\"\"\n",
    "\n",
    "    # Checks if instrument not already in list of instruments\n",
    "    if instrument in self._instruments:\n",
    "        self._instruments.append(instrument)\n",
    "    \n",
    "    # Why do we always return true?\n",
    "    return True"
   ]
  },
  {
   "cell_type": "code",
   "execution_count": 34,
   "metadata": {},
   "outputs": [
    {
     "data": {
      "text/plain": [
       "True"
      ]
     },
     "execution_count": 34,
     "metadata": {},
     "output_type": "execute_result"
    }
   ],
   "source": [
    "john.add_instrument(\"Guitar\")"
   ]
  },
  {
   "cell_type": "code",
   "execution_count": null,
   "metadata": {},
   "outputs": [],
   "source": [
    "# Create function to do the check more dynamically for us\n",
    "\n",
    "\n",
    "def _can_be_added(self, object: str, list_objects: list[str]) -> bool:\n",
    "    \"\"\"Checks if an object can be added - to avoid duplicates\"\"\"\n",
    "\n",
    "    if object not in list_objects:\n",
    "        return True\n",
    "\n",
    "    return False"
   ]
  },
  {
   "cell_type": "code",
   "execution_count": 17,
   "metadata": {},
   "outputs": [],
   "source": [
    "\n",
    "# Add instrument now with checker function we wrote previously\n",
    "\n",
    "\n",
    "def add_instrument(self, instrument: str) -> True:\n",
    "    \"\"\"Adds given instrument into instrument list\"\"\"\n",
    "\n",
    "    # Checks through other function if object not already in list\n",
    "    if self._can_be_added(instrument, self._instruments):\n",
    "        self._instruments.append(instrument)\n",
    "        \n",
    "    return True"
   ]
  },
  {
   "cell_type": "code",
   "execution_count": null,
   "metadata": {},
   "outputs": [],
   "source": [
    "# Same for list of instruments\n",
    "\n",
    "\n",
    "def add_several_instruments(self, instruments_to_add: list[str]) -> True:\n",
    "    \"\"\"Adds several instruments into instrument list\"\"\"\n",
    "\n",
    "    # Check if given instrument not already in list\n",
    "    for instrument in instruments_to_add:\n",
    "        if self._can_be_added(instrument, self._instruments):\n",
    "\n",
    "            # Add to list\n",
    "            self._instruments.append(instrument)\n",
    "\n",
    "    return True"
   ]
  },
  {
   "cell_type": "code",
   "execution_count": null,
   "metadata": {},
   "outputs": [],
   "source": []
  },
  {
   "cell_type": "code",
   "execution_count": null,
   "metadata": {},
   "outputs": [],
   "source": []
  },
  {
   "cell_type": "code",
   "execution_count": null,
   "metadata": {},
   "outputs": [],
   "source": []
  },
  {
   "cell_type": "code",
   "execution_count": null,
   "metadata": {},
   "outputs": [],
   "source": []
  },
  {
   "cell_type": "code",
   "execution_count": null,
   "metadata": {},
   "outputs": [],
   "source": []
  },
  {
   "cell_type": "code",
   "execution_count": null,
   "metadata": {},
   "outputs": [],
   "source": []
  },
  {
   "cell_type": "code",
   "execution_count": null,
   "metadata": {},
   "outputs": [],
   "source": []
  },
  {
   "cell_type": "code",
   "execution_count": null,
   "metadata": {},
   "outputs": [],
   "source": []
  },
  {
   "cell_type": "code",
   "execution_count": 1,
   "metadata": {},
   "outputs": [],
   "source": [
    "from beatles import Beatles "
   ]
  },
  {
   "cell_type": "code",
   "execution_count": 2,
   "metadata": {},
   "outputs": [],
   "source": [
    "john = Beatles(\"John\", 1940)"
   ]
  },
  {
   "cell_type": "code",
   "execution_count": 3,
   "metadata": {},
   "outputs": [
    {
     "data": {
      "text/plain": [
       "True"
      ]
     },
     "execution_count": 3,
     "metadata": {},
     "output_type": "execute_result"
    }
   ],
   "source": [
    "john.add_instrument(\"Vocals\")"
   ]
  },
  {
   "cell_type": "code",
   "execution_count": 4,
   "metadata": {},
   "outputs": [
    {
     "data": {
      "text/plain": [
       "['Vocals']"
      ]
     },
     "execution_count": 4,
     "metadata": {},
     "output_type": "execute_result"
    }
   ],
   "source": [
    "john._instruments"
   ]
  },
  {
   "cell_type": "code",
   "execution_count": 5,
   "metadata": {},
   "outputs": [
    {
     "name": "stdout",
     "output_type": "stream",
     "text": [
      "Beatle: John\n",
      "born in: 1940 \n",
      "played: Vocals\n"
     ]
    }
   ],
   "source": [
    "print(john)"
   ]
  },
  {
   "cell_type": "code",
   "execution_count": 6,
   "metadata": {},
   "outputs": [],
   "source": [
    "# Creating a new beatles class object for the Beatles Member Paul\n",
    "paul = Beatles(\"Paul\", 1942)"
   ]
  },
  {
   "cell_type": "code",
   "execution_count": 7,
   "metadata": {},
   "outputs": [
    {
     "name": "stdout",
     "output_type": "stream",
     "text": [
      "Beatle: Paul\n",
      "born in: 1942 \n",
      "played: \n"
     ]
    }
   ],
   "source": [
    "# What does this print and why?\n",
    "print(paul)"
   ]
  },
  {
   "cell_type": "code",
   "execution_count": 8,
   "metadata": {},
   "outputs": [
    {
     "name": "stdout",
     "output_type": "stream",
     "text": [
      "Paul\n"
     ]
    }
   ],
   "source": [
    "# Why does this print something else?\n",
    "print(paul.name)"
   ]
  },
  {
   "cell_type": "code",
   "execution_count": 9,
   "metadata": {},
   "outputs": [
    {
     "name": "stdout",
     "output_type": "stream",
     "text": [
      "[]\n"
     ]
    }
   ],
   "source": [
    "# What does come here?\n",
    "print(paul._instruments)"
   ]
  },
  {
   "cell_type": "code",
   "execution_count": 10,
   "metadata": {},
   "outputs": [
    {
     "name": "stdout",
     "output_type": "stream",
     "text": [
      "['Piano']\n"
     ]
    }
   ],
   "source": [
    "# And now?\n",
    "paul.add_instrument(\"Piano\")\n",
    "print(paul._instruments)"
   ]
  },
  {
   "cell_type": "markdown",
   "metadata": {},
   "source": [
    "Name:       John\n",
    "Instrument: guitar, vocals\n",
    "Born:       1940"
   ]
  },
  {
   "cell_type": "code",
   "execution_count": 11,
   "metadata": {},
   "outputs": [
    {
     "name": "stdout",
     "output_type": "stream",
     "text": [
      "John\n",
      "1940\n",
      "['guitar', 'vocals']\n"
     ]
    }
   ],
   "source": [
    "john = Beatles(\"John\", 1940)\n",
    "john.add_several_instruments([\"guitar\", \"vocals\"])\n",
    "print(john.name)\n",
    "print(john.born)\n",
    "print(john._instruments)"
   ]
  },
  {
   "cell_type": "code",
   "execution_count": 12,
   "metadata": {},
   "outputs": [
    {
     "name": "stdout",
     "output_type": "stream",
     "text": [
      "Beatle: John\n",
      "born in: 1940 \n",
      "played: guitarvocals\n"
     ]
    }
   ],
   "source": [
    "print(john)"
   ]
  },
  {
   "cell_type": "code",
   "execution_count": 13,
   "metadata": {},
   "outputs": [],
   "source": [
    "john = Beatles(john, 1940)"
   ]
  },
  {
   "cell_type": "code",
   "execution_count": null,
   "metadata": {},
   "outputs": [],
   "source": []
  },
  {
   "cell_type": "code",
   "execution_count": null,
   "metadata": {},
   "outputs": [],
   "source": []
  }
 ],
 "metadata": {
  "interpreter": {
   "hash": "b0fa6594d8f4cbf19f97940f81e996739fb7646882a419484c72d19e05852a7e"
  },
  "kernelspec": {
   "display_name": "Python 3.10.6 64-bit",
   "language": "python",
   "name": "python3"
  },
  "language_info": {
   "codemirror_mode": {
    "name": "ipython",
    "version": 3
   },
   "file_extension": ".py",
   "mimetype": "text/x-python",
   "name": "python",
   "nbconvert_exporter": "python",
   "pygments_lexer": "ipython3",
   "version": "3.10.6"
  },
  "orig_nbformat": 4
 },
 "nbformat": 4,
 "nbformat_minor": 2
}
